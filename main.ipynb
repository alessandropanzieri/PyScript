{
 "cells": [
  {
   "cell_type": "code",
   "execution_count": null,
   "metadata": {
    "vscode": {
     "languageId": "bat"
    }
   },
   "outputs": [],
   "source": [
    "pip install Augmentor autodistill autodistill-grounded-sam ultralytics opencv-python supervision"
   ]
  },
  {
   "cell_type": "code",
   "execution_count": null,
   "metadata": {},
   "outputs": [],
   "source": [
    "from Augmentor import Pipeline\n",
    "\n",
    "augment = Pipeline(\"./images\", \"augmented\")\n",
    "augment.flip_left_right(probability = 0.5)\n",
    "augment.flip_top_bottom(probability = 0.5)\n",
    "augment.zoom(probability = 0.5, min_factor = 1.1, max_factor = 2)\n",
    "augment.rotate(probability = 0.5, max_left_rotation = 5, max_right_rotation = 10)\n",
    "\n",
    "augment.sample(10000)"
   ]
  },
  {
   "cell_type": "code",
   "execution_count": null,
   "metadata": {},
   "outputs": [],
   "source": [
    "from autodistill_grounded_sam import GroundedSAM\n",
    "from autodistill.detection import CaptionOntology\n",
    "\n",
    "annotate = GroundedSAM(ontology = CaptionOntology({\"\": \"\"}))\n",
    "\n",
    "annotate.label(\n",
    "  input_folder = \"./images/augmented\",\n",
    "  output_folder = \"./dataset\"\n",
    ")"
   ]
  },
  {
   "cell_type": "code",
   "execution_count": null,
   "metadata": {},
   "outputs": [],
   "source": [
    "from ultralytics import hub, YOLO\n",
    "\n",
    "hub.login(\"86d48192211ece7b9fa5e0ff811f82e378538ca65c\")\n",
    "model = YOLO(\"https://hub.ultralytics.com/datasets/\")\n",
    "model.train()"
   ]
  },
  {
   "cell_type": "code",
   "execution_count": null,
   "metadata": {},
   "outputs": [],
   "source": [
    "predict = model.predict(\"./test.jpg\")[0]"
   ]
  },
  {
   "cell_type": "code",
   "execution_count": null,
   "metadata": {},
   "outputs": [],
   "source": [
    "from cv2 import imread, imwrite\n",
    "from supervision import Detections, MaskAnnotator\n",
    "\n",
    "imwrite(\"./test.jpg\",\n",
    "        MaskAnnotator().annotate(\n",
    "            scene = imread(\"./test.jpg\"),\n",
    "            detections = Detections.from_yolov8(predict),\n",
    "            opacity = 1.0\n",
    "))"
   ]
  }
 ],
 "metadata": {
  "kernelspec": {
   "display_name": "Python 3",
   "language": "python",
   "name": "python3"
  },
  "language_info": {
   "codemirror_mode": {
    "name": "ipython",
    "version": 3
   },
   "file_extension": ".py",
   "mimetype": "text/x-python",
   "name": "python",
   "nbconvert_exporter": "python",
   "pygments_lexer": "ipython3",
   "version": "3.11.3"
  },
  "orig_nbformat": 4
 },
 "nbformat": 4,
 "nbformat_minor": 2
}
